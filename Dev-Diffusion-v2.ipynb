{
 "cells": [
  {
   "cell_type": "code",
   "execution_count": 10,
   "metadata": {
    "collapsed": true
   },
   "outputs": [
    {
     "name": "stdout",
     "output_type": "stream",
     "text": [
      "noise_net.net.0.weight torch.Size([128, 2])\n",
      "noise_net.net.0.bias torch.Size([128])\n",
      "noise_net.net.2.weight torch.Size([128, 128])\n",
      "noise_net.net.2.bias torch.Size([128])\n",
      "noise_net.net.4.weight torch.Size([128, 128])\n",
      "noise_net.net.4.bias torch.Size([128])\n",
      "noise_net.net.6.weight torch.Size([2, 128])\n",
      "noise_net.net.6.bias torch.Size([2])\n",
      "noise_net.t_embeds.0.weight torch.Size([100, 128])\n",
      "noise_net.t_embeds.1.weight torch.Size([100, 128])\n",
      "noise_net.t_embeds.2.weight torch.Size([100, 128])\n"
     ]
    }
   ],
   "source": [
    "import numpy as np\n",
    "import torch\n",
    "import torch.nn as nn\n",
    "import random\n",
    "import os\n",
    "\n",
    "from sklearn.datasets import make_s_curve\n",
    "import matplotlib.pyplot as plt\n",
    "\n",
    "from models.ddpm.net import MLPDiffusion\n",
    "\n",
    "\n",
    "device = torch.device('cpu')\n",
    "\n",
    "torch.manual_seed(0)\n",
    "np.random.seed(0)\n",
    "random.seed(0)\n",
    "\n",
    "# model = MLPDiffusion(\n",
    "#     s_dim=2,\n",
    "#     hidden_dim=256,\n",
    "#     hidden_layers=3,\n",
    "#     n_steps=100,\n",
    "# ).to(device)\n",
    "#\n",
    "# for name, param in model.named_parameters():\n",
    "#     if param.requires_grad:\n",
    "#         print (name, param.data.shape)\n",
    "\n",
    "class DDPM(nn.Module):\n",
    "\n",
    "    def __init__(\n",
    "        self,\n",
    "        s_dim,\n",
    "        diff_steps,\n",
    "        hidden_dim=128,\n",
    "        hidden_layers=3,\n",
    "    ):\n",
    "        super().__init__()\n",
    "\n",
    "        self.s_dim = s_dim\n",
    "        self.diff_steps = diff_steps\n",
    "\n",
    "        self.noise_net = MLPDiffusion(\n",
    "            s_dim=self.s_dim,\n",
    "            hidden_dim=hidden_dim,\n",
    "            hidden_layers=hidden_layers,\n",
    "            n_steps=self.diff_steps,\n",
    "        )\n",
    "\n",
    "        \n",
    "\n",
    "\n",
    "\n",
    "\n",
    "\n",
    "\n",
    "model = DDPM(\n",
    "    s_dim=2,\n",
    "    diff_steps=100,\n",
    ")\n",
    "\n",
    "for name, param in model.named_parameters():\n",
    "    if param.requires_grad:\n",
    "        print (name, param.data.shape)\n",
    "\n",
    "\n",
    "\n",
    "\n"
   ]
  },
  {
   "cell_type": "code",
   "execution_count": null,
   "outputs": [],
   "source": [],
   "metadata": {
    "collapsed": false
   }
  },
  {
   "cell_type": "code",
   "execution_count": null,
   "outputs": [],
   "source": [],
   "metadata": {
    "collapsed": false
   }
  }
 ],
 "metadata": {
  "kernelspec": {
   "display_name": "Python 3",
   "language": "python",
   "name": "python3"
  },
  "language_info": {
   "codemirror_mode": {
    "name": "ipython",
    "version": 2
   },
   "file_extension": ".py",
   "mimetype": "text/x-python",
   "name": "python",
   "nbconvert_exporter": "python",
   "pygments_lexer": "ipython2",
   "version": "2.7.6"
  }
 },
 "nbformat": 4,
 "nbformat_minor": 0
}
